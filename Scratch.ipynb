{
 "cells": [
  {
   "cell_type": "code",
   "execution_count": 1,
   "metadata": {},
   "outputs": [],
   "source": [
    "import pandas as pd\n",
    "from sklearn.model_selection import train_test_split"
   ]
  },
  {
   "cell_type": "code",
   "execution_count": 2,
   "metadata": {},
   "outputs": [
    {
     "name": "stdout",
     "output_type": "stream",
     "text": [
      "51760 0.15 0.16999613601236477 0.6800038639876352\n"
     ]
    }
   ],
   "source": [
    "df = pd.read_csv(\"data/alpaca.csv\")\n",
    "train, temp = train_test_split(df, test_size=0.85, random_state=42)\n",
    "val, test = train_test_split(temp, test_size=0.8, random_state=42)\n",
    "\n",
    "print(df.shape[0], train.shape[0]/df.shape[0], val.shape[0]/df.shape[0], test.shape[0]/df.shape[0])\n"
   ]
  },
  {
   "cell_type": "code",
   "execution_count": 3,
   "metadata": {},
   "outputs": [],
   "source": [
    "pd.DataFrame(train[\"document\"].values, columns=[\"prompt\"]).to_csv(\"data/alpaca_train.csv\", index=False)\n",
    "pd.DataFrame(val[\"document\"].values, columns=[\"prompt\"]).to_csv(\"data/alpaca_val.csv\", index=False)\n",
    "pd.DataFrame(test[\"document\"].values, columns=[\"prompt\"]).to_csv(\"data/alpaca_test.csv\", index=False)"
   ]
  },
  {
   "cell_type": "code",
   "execution_count": null,
   "metadata": {},
   "outputs": [],
   "source": []
  }
 ],
 "metadata": {
  "kernelspec": {
   "display_name": "craftmd_dev",
   "language": "python",
   "name": "python3"
  },
  "language_info": {
   "codemirror_mode": {
    "name": "ipython",
    "version": 3
   },
   "file_extension": ".py",
   "mimetype": "text/x-python",
   "name": "python",
   "nbconvert_exporter": "python",
   "pygments_lexer": "ipython3",
   "version": "3.9.21"
  }
 },
 "nbformat": 4,
 "nbformat_minor": 2
}
